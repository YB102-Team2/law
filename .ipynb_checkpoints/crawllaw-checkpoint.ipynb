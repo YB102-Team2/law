{
 "metadata": {
  "name": "",
  "signature": "sha256:32195f2818713d1fb175163715862124c0be1e741a898f053e337f841ea08ce1"
 },
 "nbformat": 3,
 "nbformat_minor": 0,
 "worksheets": [
  {
   "cells": [
    {
     "cell_type": "code",
     "collapsed": false,
     "input": [
      "# -*- coding: utf-8 -*- \n",
      "import requests\n",
      "from bs4 import BeautifulSoup \n",
      "\n",
      "rs = requests.session()\n",
      "payload ={\n",
      "'nccharset':'612DA531',\n",
      "'v_court':'IPC \u667a\u6167\u8ca1\u7522\u6cd5\u9662',\n",
      "'v_sys':'V',\n",
      "'jud_year':'',\n",
      "'sel_judword':'\u5e38\u7528\u5b57\u5225',\n",
      "'jud_case':'',\n",
      "'jud_no':'',\n",
      "'jt':'',\n",
      "'dy1':'',\n",
      "'dm1':'',\n",
      "'dd1':'',\n",
      "'dy2':'',\n",
      "'dm2':'',\n",
      "'dd2':'',\n",
      "'kw':'\u4fb5\u6b0a',\n",
      "'keyword':'\u4fb5\u6b0a',\n",
      "'sdate':'',\n",
      "'edate':'',\n",
      "'jud_title':'',\n",
      "'Button':'\u67e5\u8a62',\n",
      "'searchkw':'\u4fb5\u6b0a'\n",
      "}\n",
      "\n",
      "header = {\n",
      "'Referer':'http://jirs.judicial.gov.tw/FJUD/FJUDQRY02_1.aspx',\n",
      "'User-Agent':'Mozilla/5.0 (Macintosh; Intel Mac OS X 10_10_1) AppleWebKit/537.36 (KHTML, like Gecko) Chrome/39.0.2171.95 Safari/537.36'\n",
      "\n",
      "}\n",
      "\n",
      "\n",
      "\n",
      "rt = rs.post('http://jirs.judicial.gov.tw/FJUD/FJUDQRY03_1.aspx?id=1&v_court=IPC+%e6%99%ba%e6%85%a7%e8%b2%a1%e7%94%a2%e6%b3%95%e9%99%a2&v_sys=V&jud_year=&jud_case=&jud_no=&jud_title=&keyword=%e4%be%b5%e6%ac%8a&sdate=&edate=&page=&searchkw=%e4%be%b5%e6%ac%8a'\n",
      "             , data=payload, headers=header)\n",
      "\n",
      "page_format='http://jirs.judicial.gov.tw/FJUD/FJUDQRY03_1.aspx?id={}&v_court=IPC+%e6%99%ba%e6%85%a7%e8%b2%a1%e7%94%a2%e6%b3%95%e9%99%a2&v_sys=V&jud_year=&jud_case=&jud_no=&jud_title=&keyword=%e4%be%b5%e6%ac%8a&sdate=&edate=&page=&searchkw=%e4%be%b5%e6%ac%8a'\n",
      "\n",
      "i=0\n",
      "\n",
      "\n",
      "#for tr in trt[8:28]:\n",
      "for i in range(1,10): #\u6539id \u6700\u591a\u5230\u7b2c200\u7bc7       \n",
      "    \n",
      "    rt = rs.post(page_format.format(i), data=payload, headers=header)\n",
      "    \n",
      "    response_text = rt.text \n",
      "    soup = BeautifulSoup(response_text)    \n",
      "    tr = soup.select(\"tr\")\n",
      "    \n",
      "    #\u6293\u6a94\u540d\n",
      "    x=tr[4].select(\"td\")\n",
      "    filename = x[1].text.strip()+\".txt\"\n",
      "    \n",
      "    #\u958b\u6a94\n",
      "    bid_file = open(filename, 'w') \n",
      "    \n",
      "    for tr in tr[4:9]:\n",
      "        x = tr.select(\"td\")\n",
      "        for td in x:          \n",
      "            bid_file.write(td.text.strip().encode('utf8') +\" \\n\")             \n",
      "    \n",
      "    print filename+\" DONE\"\n",
      "    \n",
      "    #\u95dc\u6a94\n",
      "    bid_file.close() \n",
      "\n"
     ],
     "language": "python",
     "metadata": {},
     "outputs": [
      {
       "output_type": "stream",
       "stream": "stdout",
       "text": [
        "102,\u6c11\u5546\u8a34,19.txt DONE\n",
        "103,\u6c11\u8457\u8a34,5.txt DONE"
       ]
      },
      {
       "output_type": "stream",
       "stream": "stdout",
       "text": [
        "\n",
        "103,\u6c11\u5546\u4e0a,4.txt DONE"
       ]
      },
      {
       "output_type": "stream",
       "stream": "stdout",
       "text": [
        "\n",
        "103,\u6c11\u5c08\u4e0a,10.txt DONE"
       ]
      },
      {
       "output_type": "stream",
       "stream": "stdout",
       "text": [
        "\n",
        "103,\u6c11\u5c08\u4e0a,15.txt DONE"
       ]
      },
      {
       "output_type": "stream",
       "stream": "stdout",
       "text": [
        "\n",
        "103,\u6c11\u5c08\u4e0a,25.txt DONE"
       ]
      },
      {
       "output_type": "stream",
       "stream": "stdout",
       "text": [
        "\n",
        "102,\u6c11\u5546\u4e0a,14.txt DONE"
       ]
      },
      {
       "output_type": "stream",
       "stream": "stdout",
       "text": [
        "\n",
        "103,\u6c11\u5c08\u8a34,49.txt DONE"
       ]
      },
      {
       "output_type": "stream",
       "stream": "stdout",
       "text": [
        "\n",
        "103,\u6c11\u8457\u8a34,57.txt DONE"
       ]
      },
      {
       "output_type": "stream",
       "stream": "stdout",
       "text": [
        "\n"
       ]
      }
     ],
     "prompt_number": 1
    },
    {
     "cell_type": "code",
     "collapsed": false,
     "input": [],
     "language": "python",
     "metadata": {},
     "outputs": []
    }
   ],
   "metadata": {}
  }
 ]
}